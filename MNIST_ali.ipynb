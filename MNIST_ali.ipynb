{
 "cells": [
  {
   "cell_type": "markdown",
   "metadata": {},
   "source": [
    "# 1. **Preface**\n",
    "\n",
    "[Düğün](https://dugun.com/) şirketi tarafından talep edilen bu kod mücadelesi. Buradaki aday __\"Ali Saadat\"__, yalnızca takip kodlarını geliştirdiğini ve topladığını onaylar. Görev, adayın aşağıdaki görevleri tamamlamasını gerektirir:\n",
    "\n",
    "This code challenge requested by [Düğün](https://dugun.com/) company. The candidate hereby __\"Ali Saadat\"__ confirms that he solely developed and gathered followings codes. The task requires the candidate to complete the following tasks:\n",
    "\n",
    "\n",
    "* Beyaz arka plan üzerine el yazısı ile yazilan rakamı ne oldugu tahmin edilecek.\n",
    "\n",
    "* Bonus: Karelli-cizgili arka plan ile aynı işlem yapılacak.\n",
    "\n",
    "Görevleri başarmak için meseleye böl ve yaklaşma yöntemiyle yaklaşıyorum. İlk önce, MNIST veri setini tanıyalım. Bu sayfadan elde edilebilen MNIST el yazısı rakamları veri tabanı, 60.000 örnek eğitim setine ve 10.000 örnek test setine sahiptir. MNIST'ten alınabilecek daha büyük bir setin alt kümesidir. Rakamlar boyut normalleştirildi ve sabit boyutlu bir görüntüde ortalandı.\n",
    "\n",
    "in order to achieve the tasks, I approach the issue with divide and conquer methodology. First, let get familiar with the MNIST data set. The MNIST database of handwritten digits, available from this page, has a training set of 60,000 examples, and a test set of 10,000 examples. It is a subset of a larger set available from MNIST. The digits have been size-normalized and centered in a fixed-size image.\n",
    "\n",
    "<img src=\"https://3qeqpr26caki16dnhd19sv6by6v-wpengine.netdna-ssl.com/wp-content/uploads/2019/02/Plot-of-a-Subset-of-Images-from-the-MNIST-Dataset.png\"></img>\n",
    "\n",
    "Ön işleme ve biçimlendirme konusunda asgari çaba harcayarak gerçek dünyadaki veriler üzerinde öğrenme tekniklerini ve örüntü tanıma yöntemlerini denemek isteyen insanlar için iyi bir veritabanıdır.\n",
    "\n",
    "It is a good database for people who want to try learning techniques and pattern recognition methods on real-world data while spending minimal efforts on preprocessing and formatting.\n",
    "\n",
    "\n",
    "ilk önce sorunun basit versiyonuna değinilecek, daha sonra gürültülü veri olan daha zorlu bölüme devam edeceğim. Aşağıdaki gibi, MNIST veri setinin gürültülü veri varyantlarından bazılarını görüntüleyebilirsiniz.\n",
    "\n",
    "at first the simple version of the problem will be addressed, next, I will continue to the more challenging part which is noisy data. As following you can view some of the noisy data variants of the MNIST data set. \n",
    "\n",
    "\n",
    "mnist-back-image: a patch from a black and white image was used as the background for the digit image. The patches were extracted randomly from a set of 20 images downloaded from the internet. Patches which had low pixel variance (i.e. contained little texture) were ignored;\n",
    "\n",
    "<img src=\"https://sites.google.com/a/lisa.iro.umontreal.ca/public_static_twiki/_/rsrc/1392048832517/variations-on-the-mnist-digits/mnist_back_image.png\" ></img>\n",
    "\n",
    "mnist-back-rand: a random background was inserted in the digit image. Each pixel value of the background was generated uniformly between 0 and 255;\n",
    "\n",
    "<img src=\"https://sites.google.com/a/lisa.iro.umontreal.ca/public_static_twiki/_/rsrc/1392048835888/variations-on-the-mnist-digits/mnist_back_random.png\"></img>\n",
    "\n",
    "mnist-rot-back-image: the perturbations used in mnist-rot and mnist-back-image were combined.\n",
    "<img src= \"https://sites.google.com/a/lisa.iro.umontreal.ca/public_static_twiki/_/rsrc/1392048838794/variations-on-the-mnist-digits/mnist_rot_back_image.png\"></img>\n",
    "\n",
    "the work flow will be as follow:\n",
    "\n",
    "Simple MNIST data set\n",
    "* library input\n",
    "* data gatherig\n",
    "* data visualization\n",
    "* data exploration\n",
    "* data tranformation\n",
    "* data loading\n",
    "* model building\n",
    "* model copiling\n",
    "* model evaluation\n",
    "\n",
    "\n",
    "Noisy MNIST data set\n",
    "* library input\n",
    "* data gatherig\n",
    "* data visualization\n",
    "* data exploration\n",
    "* data tranformation\n",
    "* data loading\n",
    "* model building\n",
    "* model copiling\n",
    "* model evaluation\n",
    "\n",
    "İletişim detayları: Ali.saadat81@gmail.com"
   ]
  },
  {
   "cell_type": "code",
   "execution_count": 1,
   "metadata": {},
   "outputs": [],
   "source": [
    "# import libraries\n",
    "import tensorflow as tf\n",
    "import torch\n",
    "from tensorflow import keras"
   ]
  },
  {
   "cell_type": "code",
   "execution_count": 2,
   "metadata": {},
   "outputs": [],
   "source": [
    "# import libraries\n",
    "import numpy as np\n",
    "import pandas as pd\n",
    "from matplotlib import pyplot as plt\n",
    "from PIL import Image\n",
    "%matplotlib inline"
   ]
  },
  {
   "cell_type": "markdown",
   "metadata": {},
   "source": [
    "# 2. **Data pre-processing**\n",
    "## 2.1 Load data\n",
    "\n",
    "   * *train*:  \n",
    "this is the data used to train the CNN.  \n",
    "the image data and their corresponding class is provided.   \n",
    "the CNN learns the weights to create the mapping from the image data to their corresponding class.  \n",
    "\n",
    "\n",
    "   * *test*:  \n",
    "this is the data used to test the CNN.  \n",
    "only the image data is provided.  \n",
    "the prediction is submitted to the competition and depending on the accuracy, a score is obtained."
   ]
  },
  {
   "cell_type": "code",
   "execution_count": 3,
   "metadata": {},
   "outputs": [],
   "source": [
    "#Loading data from Internet\n",
    "(x_train, y_train), (x_test, y_test) = tf.keras.datasets.mnist.load_data()"
   ]
  },
  {
   "cell_type": "code",
   "execution_count": 4,
   "metadata": {},
   "outputs": [
    {
     "data": {
      "text/plain": [
       "(60000, 28, 28)"
      ]
     },
     "execution_count": 4,
     "metadata": {},
     "output_type": "execute_result"
    }
   ],
   "source": [
    "# check data shape\n",
    "np.shape(x_train)"
   ]
  },
  {
   "cell_type": "code",
   "execution_count": 5,
   "metadata": {},
   "outputs": [
    {
     "data": {
      "image/png": "[encoded data removed]",
      "text/plain": [
       "<Figure size 432x288 with 10 Axes>"
      ]
     },
     "metadata": {
      "needs_background": "light"
     },
     "output_type": "display_data"
    }
   ],
   "source": [
    "# Data Visualization\n",
    "fig, ax = plt.subplots(2,5)\n",
    "for i, ax in enumerate(ax.flatten()):\n",
    "    im_idx = np.argwhere(y_train == i)[0]\n",
    "    plottable_image = np.reshape(x_train[im_idx], (28, 28))\n",
    "    ax.imshow(plottable_image, cmap='plasma')"
   ]
  },
  {
   "cell_type": "markdown",
   "metadata": {},
   "source": [
    "## 3 Data pre processing"
   ]
  },
  {
   "cell_type": "code",
   "execution_count": 6,
   "metadata": {},
   "outputs": [
    {
     "name": "stdout",
     "output_type": "stream",
     "text": [
      "x_train shape: (60000, 28, 28, 1)\n",
      "Number of images in x_train 60000\n",
      "Number of images in x_test 10000\n"
     ]
    }
   ],
   "source": [
    "# Reshaping the array to 4-dims so that it can work with the Keras API\n",
    "x_train = x_train.reshape(x_train.shape[0], 28, 28, 1)\n",
    "x_test = x_test.reshape(x_test.shape[0], 28, 28, 1)\n",
    "input_shape = (28, 28, 1)\n",
    "# Making sure that the values are float so that we can get decimal points after division\n",
    "x_train = x_train.astype('float32')\n",
    "x_test = x_test.astype('float32')\n",
    "# Normalizing the RGB codes by dividing it to the max RGB value.\n",
    "x_train /= 255\n",
    "x_test /= 255\n",
    "print('x_train shape:', x_train.shape)\n",
    "print('Number of images in x_train', x_train.shape[0])\n",
    "print('Number of images in x_test', x_test.shape[0])"
   ]
  },
  {
   "cell_type": "markdown",
   "metadata": {},
   "source": [
    "## 4. Define model architecture\n",
    "\n",
    "You can read about the theory of CNNs on the Internet from people more knowledgeable than me and who surely explain it much better. So I will skip the theory explanation for the Conv2D, MaxPool2D, Flatten and Dense layers and I will focus on smaller details.\n",
    "\n",
    "   * Conv2D\n",
    "   \n",
    "      * __filters__: usually on the first convolutional layers there are less filters, and more deeper down the CNN. Usually a power of 2 is set, and in this case 16 offered poorer performance and I didn't want to make a big CNN with 64 or 128 filters for digit classification.\n",
    "      \n",
    "      * __kernel_size__: this is the filter size, usually (3,3) or (5,5) is set. I advise setting one, building the architecture and changing it to see if it affects the performance though it usually doesn't.\n",
    "      \n",
    "      * __padding__: two options\n",
    "      \n",
    "         * valid padding: no padding, the image shrinks after convolution: n - f + 1\n",
    "         * same padding: padding of 2, the image doesn't shrink after convolution: p = (f-1)/2 &rarr; (n+2) - f(=3) + 1 = n\n",
    "         \n",
    "      * __activation__: ReLU is represented mathematically by max(0,X) and offers good performance in CNNs (source: the Internet)\n",
    "\n",
    "   * MaxPool2D: the goal is to reduce variance/overfitting and reduce computational complexity since it makes the image smaller. two pooling options\n",
    "   \n",
    "      * MaxPool2D: extracts the most important features like edges\n",
    "      * AvgPool2D: extracts smooth features\n",
    "      \n",
    "      My personal conclusion then is that for binarized images, with noticeable edge differences, MaxPool performs better.\n",
    "      \n",
    "      \n",
    "   * Dropout: you can read the theory on the Internet, it's a useful tool to reduce overfitting. The net becomes less sensitive to the specific weights of neurons and is more capable of better generalization and less likely to overfit to the train data. The optimal dropout value in Conv layers is 0.2, and if you want to implement it in the dense layers, its optimal value is 0.5: [Dropout in ML](https://medium.com/@amarbudhiraja/https-medium-com-amarbudhiraja-learning-less-to-learn-better-dropout-in-deep-machine-learning-74334da4bfc5)"
   ]
  },
  {
   "cell_type": "code",
   "execution_count": 7,
   "metadata": {},
   "outputs": [
    {
     "name": "stdout",
     "output_type": "stream",
     "text": [
      "WARNING:tensorflow:From C:\\ProgramData\\Anaconda3\\envs\\AntonioEnv\\lib\\site-packages\\tensorflow_core\\python\\ops\\resource_variable_ops.py:1630: calling BaseResourceVariable.__init__ (from tensorflow.python.ops.resource_variable_ops) with constraint is deprecated and will be removed in a future version.\n",
      "Instructions for updating:\n",
      "If using Keras pass *_constraint arguments to layers.\n"
     ]
    }
   ],
   "source": [
    "# Importing the required Keras modules containing model and layers\n",
    "from tensorflow.keras.models import Sequential\n",
    "from tensorflow.keras.layers import Dense, Conv2D, Dropout, Flatten, MaxPooling2D\n",
    "# Creating a Sequential Model and adding the layers\n",
    "model = Sequential()\n",
    "model.add(Conv2D(28, kernel_size=(3,3), input_shape=input_shape))\n",
    "model.add(MaxPooling2D(pool_size=(2, 2)))\n",
    "model.add(Flatten()) # Flattening the 2D arrays for fully connected layers\n",
    "model.add(Dense(128, activation=tf.nn.relu))\n",
    "model.add(Dropout(0.20))\n",
    "model.add(Dense(16, activation=tf.nn.relu))\n",
    "model.add(Dense(10,activation=tf.nn.softmax))"
   ]
  },
  {
   "cell_type": "markdown",
   "metadata": {},
   "source": [
    "## 5. Compile the model\n",
    "\n",
    "   * **Optimizer**: it represents the gradient descent algorithm, whose goal is to minimize the cost function to approach the minimum point. **Adam** optimizer is one of the best-performing algorithms: [Adam: A Method for Stochastic Optimization](https://arxiv.org/abs/1412.6980v8). The default learning rate for the Adam optimizer is 0.001. Another optimizer choice may be RMSprop or SGD.\n",
    "\n",
    "   * **Loss function**: It is a measure of the overall loss in the network after assigning values to the parameters during the forward phase so it indicates how well the parameters were chosen during the forward propagation phase. This loss function requires the labels to be encoded as one-hot vectors which is why this step was taken back in 1.8. \n",
    "\n",
    "   * **Metrics**: this refers to which metric the network should achieve, the most common one being 'accuracy' but there are other metrics to measure the performance other than accuracy, such as precision or recall or F1 score. The choice depends on the problem itself. Where high recall means low number of false negatives , High precision means low number of false positives and F1 score is a trade off between them: [Precision-Recall](http://scikit-learn.org/stable/auto_examples/model_selection/plot_precision_recall.html). Depending on the problem, accuracy may not be the best metric. Suppose a binary classification problem where there are much more 0 values than 1, and therefore it's crucial that the predicted 1's are mostly correct. A network that just outputs 0 every time would get very high accuracy but the model still wouldn't perform well. Take the popular example:\n",
    "   \n",
    "   > A ML company has built a tool to identify terrorists among the population and they claim to have 99.99% accuracy. When inspecting their product, turns out they just output 0 in every case. Since there is only one terrorist for every 10000 people (this is made up, I actually have no idea what the probability is but all I know is that it's very low), the company has a very high precision, but there's no need of a ML tool for that. With the class imbalance being so high, accuracy is not a good metric anymore and other options should be considered."
   ]
  },
  {
   "cell_type": "code",
   "execution_count": 8,
   "metadata": {},
   "outputs": [
    {
     "name": "stdout",
     "output_type": "stream",
     "text": [
      "Train on 60000 samples\n",
      "Epoch 1/10\n",
      "60000/60000 [==============================] - 64s 1ms/sample - loss: 0.2540 - acc: 0.9229\n",
      "Epoch 2/10\n",
      "60000/60000 [==============================] - 54s 904us/sample - loss: 0.0951 - acc: 0.9715\n",
      "Epoch 3/10\n",
      "60000/60000 [==============================] - 50s 838us/sample - loss: 0.0676 - acc: 0.9792\n",
      "Epoch 4/10\n",
      "60000/60000 [==============================] - 48s 793us/sample - loss: 0.0518 - acc: 0.9837\n",
      "Epoch 5/10\n",
      "60000/60000 [==============================] - 50s 835us/sample - loss: 0.0438 - acc: 0.9858\n",
      "Epoch 6/10\n",
      "60000/60000 [==============================] - 59s 992us/sample - loss: 0.0364 - acc: 0.9882\n",
      "Epoch 7/10\n",
      "60000/60000 [==============================] - 57s 958us/sample - loss: 0.0305 - acc: 0.9903\n",
      "Epoch 8/10\n",
      "60000/60000 [==============================] - 55s 918us/sample - loss: 0.0253 - acc: 0.9915\n",
      "Epoch 9/10\n",
      "60000/60000 [==============================] - 54s 894us/sample - loss: 0.0252 - acc: 0.9913\n",
      "Epoch 10/10\n",
      "60000/60000 [==============================] - 56s 936us/sample - loss: 0.0201 - acc: 0.9932\n"
     ]
    },
    {
     "data": {
      "text/plain": [
       "<tensorflow.python.keras.callbacks.History at 0x13c41c2bb08>"
      ]
     },
     "execution_count": 8,
     "metadata": {},
     "output_type": "execute_result"
    }
   ],
   "source": [
    "model.compile(optimizer='adam', \n",
    "              loss='sparse_categorical_crossentropy', \n",
    "              metrics=['accuracy'])\n",
    "model.fit(x=x_train,y=y_train, epochs=10)"
   ]
  },
  {
   "cell_type": "code",
   "execution_count": 9,
   "metadata": {},
   "outputs": [
    {
     "name": "stdout",
     "output_type": "stream",
     "text": [
      "10000/10000 [==============================] - 5s 518us/sample - loss: 0.0672 - acc: 0.9849s -  - ETA: 1s - loss: \n"
     ]
    },
    {
     "data": {
      "text/plain": [
       "[0.06723486893434279, 0.9849]"
      ]
     },
     "execution_count": 9,
     "metadata": {},
     "output_type": "execute_result"
    }
   ],
   "source": [
    "model.evaluate(x_test, y_test)"
   ]
  },
  {
   "cell_type": "markdown",
   "metadata": {},
   "source": [
    "# Noisy MNIST"
   ]
  },
  {
   "cell_type": "code",
   "execution_count": 10,
   "metadata": {},
   "outputs": [],
   "source": [
    "# import libraries\n",
    "from io import StringIO,BytesIO"
   ]
  },
  {
   "cell_type": "code",
   "execution_count": 11,
   "metadata": {},
   "outputs": [],
   "source": [
    "##Loading data from Internet\n",
    "#Unziping data to lacal disk\n",
    "import requests, zipfile\n",
    "r = requests.get(\"http://www.iro.umontreal.ca/~lisa/icml2007data/mnist_background_random.zip\", stream=True)\n",
    "z = zipfile.ZipFile(BytesIO(r.content))\n",
    "z.extractall()"
   ]
  },
  {
   "cell_type": "code",
   "execution_count": 12,
   "metadata": {},
   "outputs": [],
   "source": [
    "import numpy as np\n",
    "#Assignig datas to variables\n",
    "b_data = np.loadtxt('mnist_background_random_test.amat')\n",
    "a_data = np.loadtxt('mnist_background_random_train.amat')"
   ]
  },
  {
   "cell_type": "code",
   "execution_count": 13,
   "metadata": {},
   "outputs": [],
   "source": [
    "# get train image datas\n",
    "ax_train = a_data[:, :-1] / 1.0\n",
    "\n",
    "# get train image labels\n",
    "ay_train = a_data[:, -1:]"
   ]
  },
  {
   "cell_type": "code",
   "execution_count": 14,
   "metadata": {},
   "outputs": [],
   "source": [
    "# get test image datas\n",
    "bx_test = b_data[:, :-1] / 1.0\n",
    "\n",
    "# get test image labels\n",
    "by_test = b_data[:, -1:]"
   ]
  },
  {
   "cell_type": "code",
   "execution_count": 15,
   "metadata": {},
   "outputs": [],
   "source": [
    "ax_train = ax_train.reshape(-1,28, 28)\n",
    "bx_test = bx_test.reshape(-1,28, 28)"
   ]
  },
  {
   "cell_type": "code",
   "execution_count": 16,
   "metadata": {},
   "outputs": [
    {
     "data": {
      "image/png": "[encoded data removed]",
      "text/plain": [
       "<Figure size 432x288 with 10 Axes>"
      ]
     },
     "metadata": {
      "needs_background": "light"
     },
     "output_type": "display_data"
    }
   ],
   "source": [
    "# Data Visualization\n",
    "fig, ax = plt.subplots(2,5)\n",
    "for i, ax in enumerate(ax.flatten()):\n",
    "    im_idx = np.argwhere(y_train == i)[0]\n",
    "    plottable_image = np.reshape(ax_train[im_idx], (28, 28))\n",
    "    ax.imshow(plottable_image, cmap='afmhot_r')"
   ]
  },
  {
   "cell_type": "code",
   "execution_count": 17,
   "metadata": {},
   "outputs": [
    {
     "name": "stdout",
     "output_type": "stream",
     "text": [
      "x_train shape: (12000, 28, 28, 1)\n",
      "Number of images in ax_train 12000\n",
      "Number of images in bx_test 50000\n"
     ]
    }
   ],
   "source": [
    "# Reshaping the array to 4-dims so that it can work with the Keras API\n",
    "ax_train = ax_train.reshape(ax_train.shape[0], 28, 28, 1)\n",
    "bx_test = bx_test.reshape(bx_test.shape[0], 28, 28, 1)\n",
    "input_shape = (28, 28, 1)\n",
    "# Making sure that the values are float so that we can get decimal points after division\n",
    "ax_train = ax_train.astype('float32')\n",
    "bx_test = bx_test.astype('float32')\n",
    "# Normalizing the RGB codes by dividing it to the max RGB value.\n",
    "ax_train /= 255\n",
    "bx_test /= 255\n",
    "print('x_train shape:', ax_train.shape)\n",
    "print('Number of images in ax_train', ax_train.shape[0])\n",
    "print('Number of images in bx_test', bx_test.shape[0])"
   ]
  },
  {
   "cell_type": "code",
   "execution_count": 18,
   "metadata": {},
   "outputs": [],
   "source": [
    "# Importing the required Keras modules containing model and layers\n",
    "from tensorflow.keras.models import Sequential\n",
    "from tensorflow.keras.layers import Dense, Conv2D, Dropout, Flatten, MaxPooling2D\n",
    "# Creating a Sequential Model and adding the layers\n",
    "model = Sequential()\n",
    "model.add(Conv2D(28, kernel_size=(3,3), input_shape=input_shape))\n",
    "model.add(MaxPooling2D(pool_size=(2, 2)))\n",
    "model.add(Flatten()) # Flattening the 2D arrays for fully connected layers\n",
    "model.add(Dense(128, activation=tf.nn.relu))\n",
    "model.add(Dropout(0.20))\n",
    "model.add(Dense(32, activation=tf.nn.relu))\n",
    "model.add(Dense(64, activation=tf.nn.relu))\n",
    "model.add(Dense(32, activation=tf.nn.relu))\n",
    "model.add(Dropout(0.20))\n",
    "model.add(Dense(10,activation=tf.nn.softmax))"
   ]
  },
  {
   "cell_type": "code",
   "execution_count": 19,
   "metadata": {},
   "outputs": [
    {
     "name": "stdout",
     "output_type": "stream",
     "text": [
      "Train on 12000 samples\n",
      "Epoch 1/15\n",
      "12000/12000 [==============================] - 12s 1ms/sample - loss: 2.3030 - acc: 0.1097\n",
      "Epoch 2/15\n",
      "12000/12000 [==============================] - 12s 1ms/sample - loss: 2.3022 - acc: 0.1072\n",
      "Epoch 3/15\n",
      "12000/12000 [==============================] - 12s 1ms/sample - loss: 2.3023 - acc: 0.1083\n",
      "Epoch 4/15\n",
      "12000/12000 [==============================] - 12s 1ms/sample - loss: 2.1296 - acc: 0.1936\n",
      "Epoch 5/15\n",
      "12000/12000 [==============================] - 12s 1ms/sample - loss: 1.3551 - acc: 0.5098\n",
      "Epoch 6/15\n",
      "12000/12000 [==============================] - 13s 1ms/sample - loss: 0.9137 - acc: 0.6946\n",
      "Epoch 7/15\n",
      "12000/12000 [==============================] - 12s 1ms/sample - loss: 0.7124 - acc: 0.7718\n",
      "Epoch 8/15\n",
      "12000/12000 [==============================] - 12s 1ms/sample - loss: 0.6101 - acc: 0.8119\n",
      "Epoch 9/15\n",
      "12000/12000 [==============================] - 12s 1ms/sample - loss: 0.5333 - acc: 0.8363\n",
      "Epoch 10/15\n",
      "12000/12000 [==============================] - 13s 1ms/sample - loss: 0.4742 - acc: 0.8558\n",
      "Epoch 11/15\n",
      "12000/12000 [==============================] - 12s 1ms/sample - loss: 0.4425 - acc: 0.8660\n",
      "Epoch 12/15\n",
      "12000/12000 [==============================] - 12s 1ms/sample - loss: 0.3921 - acc: 0.8806\n",
      "Epoch 13/15\n",
      "12000/12000 [==============================] - 12s 1ms/sample - loss: 0.3730 - acc: 0.8882\n",
      "Epoch 14/15\n",
      "12000/12000 [==============================] - 12s 1ms/sample - loss: 0.3318 - acc: 0.9004\n",
      "Epoch 15/15\n",
      "12000/12000 [==============================] - 13s 1ms/sample - loss: 0.3063 - acc: 0.9107\n"
     ]
    },
    {
     "data": {
      "text/plain": [
       "<tensorflow.python.keras.callbacks.History at 0x13c0d5581c8>"
      ]
     },
     "execution_count": 19,
     "metadata": {},
     "output_type": "execute_result"
    }
   ],
   "source": [
    "model.compile(optimizer='adam', \n",
    "              loss='sparse_categorical_crossentropy', \n",
    "              metrics=['accuracy'])\n",
    "model.fit(x=ax_train,y=ay_train, epochs=15)"
   ]
  },
  {
   "cell_type": "code",
   "execution_count": 20,
   "metadata": {},
   "outputs": [
    {
     "name": "stdout",
     "output_type": "stream",
     "text": [
      "50000/50000 [==============================] - 28s 569us/sample - loss: 0.3837 - acc: 0.8863\n"
     ]
    },
    {
     "data": {
      "text/plain": [
       "[0.38366836894869805, 0.88626]"
      ]
     },
     "execution_count": 20,
     "metadata": {},
     "output_type": "execute_result"
    }
   ],
   "source": [
    "model.evaluate(bx_test, by_test)"
   ]
  },
  {
   "cell_type": "markdown",
   "metadata": {},
   "source": [
    "# Zaman ayırdığınız için şimdiden teşekkür ederiz. Herhangi bir yardımda bulunabilirsem, haberim olsun.\n",
    "\n",
    "\n",
    "# Thank you in advance for your time. If I can be of any assistance, let me know."
   ]
  },
  {
   "cell_type": "markdown",
   "metadata": {},
   "source": [
    "# saygılarımla\n",
    "Ali Saadat"
   ]
  },
  {
   "cell_type": "code",
   "execution_count": null,
   "metadata": {},
   "outputs": [],
   "source": []
  }
 ],
 "metadata": {
  "kernelspec": {
   "display_name": "Python [conda env:AntonioEnv] *",
   "language": "python",
   "name": "conda-env-AntonioEnv-py"
  },
  "language_info": {
   "codemirror_mode": {
    "name": "ipython",
    "version": 3
   },
   "file_extension": ".py",
   "mimetype": "text/x-python",
   "name": "python",
   "nbconvert_exporter": "python",
   "pygments_lexer": "ipython3",
   "version": "3.7.5"
  }
 },
 "nbformat": 4,
 "nbformat_minor": 2
}
